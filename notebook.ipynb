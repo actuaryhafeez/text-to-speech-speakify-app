{
 "cells": [
  {
   "cell_type": "code",
   "execution_count": null,
   "id": "0c1b2734",
   "metadata": {},
   "outputs": [],
   "source": [
    "import pyttsx3\n",
    "\n",
    "# Initialize the text-to-speech engine\n",
    "engine = pyttsx3.init()\n",
    "\n",
    "# Set the rate and volume\n",
    "engine.setProperty('rate', 150)  # Speed of the voice\n",
    "engine.setProperty('volume', 0.8)  # Volume of the voice\n",
    "\n",
    "# Convert text to speech\n",
    "text = \"Hello, how are you doing today?\"\n",
    "engine.say(text)\n",
    "engine.runAndWait()\n"
   ]
  },
  {
   "cell_type": "code",
   "execution_count": null,
   "id": "66b7349f",
   "metadata": {},
   "outputs": [],
   "source": [
    "import pyttsx3\n",
    "\n",
    "# Initialize the text-to-speech engine\n",
    "engine = pyttsx3.init()\n",
    "\n",
    "# Set the rate and volume\n",
    "engine.setProperty('rate', 150)  # Speed of the voice\n",
    "engine.setProperty('volume', 0.8)  # Volume of the voice\n",
    "\n",
    "# Convert text to speech and save as an audio file\n",
    "text = \"Hello, how are you doing today?\"\n",
    "engine.save_to_file(text, 'data/output.wav')\n",
    "engine.runAndWait()\n"
   ]
  }
 ],
 "metadata": {
  "kernelspec": {
   "display_name": "Python 3 (ipykernel)",
   "language": "python",
   "name": "python3"
  },
  "language_info": {
   "codemirror_mode": {
    "name": "ipython",
    "version": 3
   },
   "file_extension": ".py",
   "mimetype": "text/x-python",
   "name": "python",
   "nbconvert_exporter": "python",
   "pygments_lexer": "ipython3",
   "version": "3.7.0"
  }
 },
 "nbformat": 4,
 "nbformat_minor": 5
}
